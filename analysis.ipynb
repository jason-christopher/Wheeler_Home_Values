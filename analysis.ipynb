{
 "cells": [
  {
   "cell_type": "code",
   "execution_count": 21,
   "metadata": {
    "collapsed": true
   },
   "outputs": [],
   "source": [
    "# Install required libraries\n",
    "import pandas as pd"
   ]
  },
  {
   "cell_type": "code",
   "execution_count": 22,
   "outputs": [
    {
     "data": {
      "text/plain": "             address  square_feet                 market_values  \\\n0    915 PEDALERS LN       1256.0  {2023: 398000, 2022: 343000}   \n1    917 PEDALERS LN       1122.0  {2023: 375500, 2022: 324000}   \n2    919 PEDALERS LN       1180.0  {2023: 385500, 2022: 332500}   \n3    921 PEDALERS LN       1194.0  {2023: 411000, 2022: 316000}   \n4    923 PEDALERS LN       1136.0  {2023: 378500, 2022: 326500}   \n..               ...          ...                           ...   \n153  1040 SW 16TH ST       1938.0                            {}   \n154  1044 SW 16TH ST       1820.0                {2023: 633500}   \n155  1048 SW 16TH ST       2292.0                            {}   \n156  1052 SW 16TH ST        752.0                            {}   \n157  1060 SW 16TH ST        752.0                            {}   \n\n                     sales_prices  \n0                  {2021: 335000}  \n1                  {2021: 318000}  \n2                  {2021: 321000}  \n3    {2022: 410000, 2021: 308000}  \n4                  {2021: 326000}  \n..                            ...  \n153                            {}  \n154                {2022: 632500}  \n155                            {}  \n156                {2023: 523500}  \n157                            {}  \n\n[158 rows x 4 columns]",
      "text/html": "<div>\n<style scoped>\n    .dataframe tbody tr th:only-of-type {\n        vertical-align: middle;\n    }\n\n    .dataframe tbody tr th {\n        vertical-align: top;\n    }\n\n    .dataframe thead th {\n        text-align: right;\n    }\n</style>\n<table border=\"1\" class=\"dataframe\">\n  <thead>\n    <tr style=\"text-align: right;\">\n      <th></th>\n      <th>address</th>\n      <th>square_feet</th>\n      <th>market_values</th>\n      <th>sales_prices</th>\n    </tr>\n  </thead>\n  <tbody>\n    <tr>\n      <th>0</th>\n      <td>915 PEDALERS LN</td>\n      <td>1256.0</td>\n      <td>{2023: 398000, 2022: 343000}</td>\n      <td>{2021: 335000}</td>\n    </tr>\n    <tr>\n      <th>1</th>\n      <td>917 PEDALERS LN</td>\n      <td>1122.0</td>\n      <td>{2023: 375500, 2022: 324000}</td>\n      <td>{2021: 318000}</td>\n    </tr>\n    <tr>\n      <th>2</th>\n      <td>919 PEDALERS LN</td>\n      <td>1180.0</td>\n      <td>{2023: 385500, 2022: 332500}</td>\n      <td>{2021: 321000}</td>\n    </tr>\n    <tr>\n      <th>3</th>\n      <td>921 PEDALERS LN</td>\n      <td>1194.0</td>\n      <td>{2023: 411000, 2022: 316000}</td>\n      <td>{2022: 410000, 2021: 308000}</td>\n    </tr>\n    <tr>\n      <th>4</th>\n      <td>923 PEDALERS LN</td>\n      <td>1136.0</td>\n      <td>{2023: 378500, 2022: 326500}</td>\n      <td>{2021: 326000}</td>\n    </tr>\n    <tr>\n      <th>...</th>\n      <td>...</td>\n      <td>...</td>\n      <td>...</td>\n      <td>...</td>\n    </tr>\n    <tr>\n      <th>153</th>\n      <td>1040 SW 16TH ST</td>\n      <td>1938.0</td>\n      <td>{}</td>\n      <td>{}</td>\n    </tr>\n    <tr>\n      <th>154</th>\n      <td>1044 SW 16TH ST</td>\n      <td>1820.0</td>\n      <td>{2023: 633500}</td>\n      <td>{2022: 632500}</td>\n    </tr>\n    <tr>\n      <th>155</th>\n      <td>1048 SW 16TH ST</td>\n      <td>2292.0</td>\n      <td>{}</td>\n      <td>{}</td>\n    </tr>\n    <tr>\n      <th>156</th>\n      <td>1052 SW 16TH ST</td>\n      <td>752.0</td>\n      <td>{}</td>\n      <td>{2023: 523500}</td>\n    </tr>\n    <tr>\n      <th>157</th>\n      <td>1060 SW 16TH ST</td>\n      <td>752.0</td>\n      <td>{}</td>\n      <td>{}</td>\n    </tr>\n  </tbody>\n</table>\n<p>158 rows × 4 columns</p>\n</div>"
     },
     "execution_count": 22,
     "metadata": {},
     "output_type": "execute_result"
    }
   ],
   "source": [
    "# Read the CSV file into a DataFrame\n",
    "df = pd.read_csv('output.csv')\n",
    "\n",
    "# Display the DataFrame\n",
    "df"
   ],
   "metadata": {
    "collapsed": false
   }
  },
  {
   "cell_type": "code",
   "execution_count": 23,
   "outputs": [
    {
     "data": {
      "text/plain": "             address  square_feet                 market_values  \\\n0    915 PEDALERS LN       1256.0  {2023: 398000, 2022: 343000}   \n1    917 PEDALERS LN       1122.0  {2023: 375500, 2022: 324000}   \n2    919 PEDALERS LN       1180.0  {2023: 385500, 2022: 332500}   \n3    921 PEDALERS LN       1194.0  {2023: 411000, 2022: 316000}   \n4    923 PEDALERS LN       1136.0  {2023: 378500, 2022: 326500}   \n..               ...          ...                           ...   \n153  1040 SW 16TH ST       1938.0                            {}   \n154  1044 SW 16TH ST       1820.0                {2023: 633500}   \n155  1048 SW 16TH ST       2292.0                            {}   \n156  1052 SW 16TH ST        752.0                            {}   \n157  1060 SW 16TH ST        752.0                            {}   \n\n                     sales_prices  most_recent_sales_price  \\\n0                  {2021: 335000}                 335000.0   \n1                  {2021: 318000}                 318000.0   \n2                  {2021: 321000}                 321000.0   \n3    {2022: 410000, 2021: 308000}                 410000.0   \n4                  {2021: 326000}                 326000.0   \n..                            ...                      ...   \n153                            {}                      NaN   \n154                {2022: 632500}                 632500.0   \n155                            {}                      NaN   \n156                {2023: 523500}                 523500.0   \n157                            {}                      NaN   \n\n     most_recent_market_value  price/square_foot  value_change  \n0                    398000.0         266.719745       63000.0  \n1                    375500.0         283.422460       57500.0  \n2                    385500.0         272.033898       64500.0  \n3                    411000.0         343.383585        1000.0  \n4                    378500.0         286.971831       52500.0  \n..                        ...                ...           ...  \n153                       NaN                NaN           NaN  \n154                  633500.0         347.527473        1000.0  \n155                       NaN                NaN           NaN  \n156                       NaN         696.143617           NaN  \n157                       NaN                NaN           NaN  \n\n[158 rows x 8 columns]",
      "text/html": "<div>\n<style scoped>\n    .dataframe tbody tr th:only-of-type {\n        vertical-align: middle;\n    }\n\n    .dataframe tbody tr th {\n        vertical-align: top;\n    }\n\n    .dataframe thead th {\n        text-align: right;\n    }\n</style>\n<table border=\"1\" class=\"dataframe\">\n  <thead>\n    <tr style=\"text-align: right;\">\n      <th></th>\n      <th>address</th>\n      <th>square_feet</th>\n      <th>market_values</th>\n      <th>sales_prices</th>\n      <th>most_recent_sales_price</th>\n      <th>most_recent_market_value</th>\n      <th>price/square_foot</th>\n      <th>value_change</th>\n    </tr>\n  </thead>\n  <tbody>\n    <tr>\n      <th>0</th>\n      <td>915 PEDALERS LN</td>\n      <td>1256.0</td>\n      <td>{2023: 398000, 2022: 343000}</td>\n      <td>{2021: 335000}</td>\n      <td>335000.0</td>\n      <td>398000.0</td>\n      <td>266.719745</td>\n      <td>63000.0</td>\n    </tr>\n    <tr>\n      <th>1</th>\n      <td>917 PEDALERS LN</td>\n      <td>1122.0</td>\n      <td>{2023: 375500, 2022: 324000}</td>\n      <td>{2021: 318000}</td>\n      <td>318000.0</td>\n      <td>375500.0</td>\n      <td>283.422460</td>\n      <td>57500.0</td>\n    </tr>\n    <tr>\n      <th>2</th>\n      <td>919 PEDALERS LN</td>\n      <td>1180.0</td>\n      <td>{2023: 385500, 2022: 332500}</td>\n      <td>{2021: 321000}</td>\n      <td>321000.0</td>\n      <td>385500.0</td>\n      <td>272.033898</td>\n      <td>64500.0</td>\n    </tr>\n    <tr>\n      <th>3</th>\n      <td>921 PEDALERS LN</td>\n      <td>1194.0</td>\n      <td>{2023: 411000, 2022: 316000}</td>\n      <td>{2022: 410000, 2021: 308000}</td>\n      <td>410000.0</td>\n      <td>411000.0</td>\n      <td>343.383585</td>\n      <td>1000.0</td>\n    </tr>\n    <tr>\n      <th>4</th>\n      <td>923 PEDALERS LN</td>\n      <td>1136.0</td>\n      <td>{2023: 378500, 2022: 326500}</td>\n      <td>{2021: 326000}</td>\n      <td>326000.0</td>\n      <td>378500.0</td>\n      <td>286.971831</td>\n      <td>52500.0</td>\n    </tr>\n    <tr>\n      <th>...</th>\n      <td>...</td>\n      <td>...</td>\n      <td>...</td>\n      <td>...</td>\n      <td>...</td>\n      <td>...</td>\n      <td>...</td>\n      <td>...</td>\n    </tr>\n    <tr>\n      <th>153</th>\n      <td>1040 SW 16TH ST</td>\n      <td>1938.0</td>\n      <td>{}</td>\n      <td>{}</td>\n      <td>NaN</td>\n      <td>NaN</td>\n      <td>NaN</td>\n      <td>NaN</td>\n    </tr>\n    <tr>\n      <th>154</th>\n      <td>1044 SW 16TH ST</td>\n      <td>1820.0</td>\n      <td>{2023: 633500}</td>\n      <td>{2022: 632500}</td>\n      <td>632500.0</td>\n      <td>633500.0</td>\n      <td>347.527473</td>\n      <td>1000.0</td>\n    </tr>\n    <tr>\n      <th>155</th>\n      <td>1048 SW 16TH ST</td>\n      <td>2292.0</td>\n      <td>{}</td>\n      <td>{}</td>\n      <td>NaN</td>\n      <td>NaN</td>\n      <td>NaN</td>\n      <td>NaN</td>\n    </tr>\n    <tr>\n      <th>156</th>\n      <td>1052 SW 16TH ST</td>\n      <td>752.0</td>\n      <td>{}</td>\n      <td>{2023: 523500}</td>\n      <td>523500.0</td>\n      <td>NaN</td>\n      <td>696.143617</td>\n      <td>NaN</td>\n    </tr>\n    <tr>\n      <th>157</th>\n      <td>1060 SW 16TH ST</td>\n      <td>752.0</td>\n      <td>{}</td>\n      <td>{}</td>\n      <td>NaN</td>\n      <td>NaN</td>\n      <td>NaN</td>\n      <td>NaN</td>\n    </tr>\n  </tbody>\n</table>\n<p>158 rows × 8 columns</p>\n</div>"
     },
     "execution_count": 23,
     "metadata": {},
     "output_type": "execute_result"
    }
   ],
   "source": [
    "# Create new columns for 'price/square foot' and 'value change'\n",
    "\n",
    "# Extract the most recent sales price and market value\n",
    "df['most_recent_sales_price'] = df['sales_prices'].apply(lambda x: eval(x).get(max(eval(x))) if eval(x) else None)\n",
    "df['most_recent_market_value'] = df['market_values'].apply(lambda x: eval(x).get(max(eval(x))) if eval(x) else None)\n",
    "\n",
    "# Calculate price/square foot\n",
    "df['price/square_foot'] = df['most_recent_sales_price'] / df['square_feet']\n",
    "\n",
    "# Calculate value change\n",
    "df['value_change'] = df['most_recent_market_value'] - df['most_recent_sales_price']\n",
    "\n",
    "# Display the DataFrame\n",
    "df\n"
   ],
   "metadata": {
    "collapsed": false
   }
  },
  {
   "cell_type": "code",
   "execution_count": null,
   "outputs": [],
   "source": [],
   "metadata": {
    "collapsed": false
   }
  }
 ],
 "metadata": {
  "kernelspec": {
   "display_name": "Python 3",
   "language": "python",
   "name": "python3"
  },
  "language_info": {
   "codemirror_mode": {
    "name": "ipython",
    "version": 2
   },
   "file_extension": ".py",
   "mimetype": "text/x-python",
   "name": "python",
   "nbconvert_exporter": "python",
   "pygments_lexer": "ipython2",
   "version": "2.7.6"
  }
 },
 "nbformat": 4,
 "nbformat_minor": 0
}
